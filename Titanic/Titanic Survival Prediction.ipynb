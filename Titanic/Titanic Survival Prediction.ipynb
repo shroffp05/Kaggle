{
 "cells": [
  {
   "cell_type": "markdown",
   "metadata": {},
   "source": [
    "### Titanic Kaggle Competition \n",
    "\n",
    "The Challenge\n",
    "\n",
    "The sinking of the Titanic is one of the most infamous shipwrecks in history.\n",
    "\n",
    "On April 15, 1912, during her maiden voyage, the widely considered “unsinkable” RMS Titanic sank after colliding with an iceberg. Unfortunately, there weren’t enough lifeboats for everyone onboard, resulting in the death of 1502 out of 2224 passengers and crew.\n",
    "\n",
    "While there was some element of luck involved in surviving, it seems some groups of people were more likely to survive than others.\n",
    "\n",
    "In this challenge, we ask you to build a predictive model that answers the question: “what sorts of people were more likely to survive?” using passenger data (ie name, age, gender, socio-economic class, etc)."
   ]
  },
  {
   "cell_type": "markdown",
   "metadata": {},
   "source": [
    "For any data science problem, I am going to follow the <b>CRISP-DM</b> methodology. \n",
    "\n",
    "CRISP-DM (Cross-Industry Standard Process for Data Mining) consists of:\n",
    "\n",
    "1) Business Understanding\n",
    "\n",
    "2) Data Understanding\n",
    "\n",
    "3) Data Preparation/ Wrangling\n",
    "\n",
    "4) Data Modeling\n",
    "\n",
    "5) Data Evaluation\n",
    "\n",
    "6) Deployment"
   ]
  },
  {
   "cell_type": "markdown",
   "metadata": {},
   "source": [
    "#### Data \n",
    "\n",
    "There are 12 columns included in the dataset: \n",
    "\n",
    "1. Passenger ID: <i> Unique ID for each passenger </i>\n",
    "2. Survived: <i> Whether the passenger survived or not </i>\n",
    "3. Pclass: <i>Ticket Class (1st, 2nd, 3rd) </i>\n",
    "4. Name:<i> Name of the Passenger </i>\n",
    "5. Sex: <i>Gender of the Passenger </i>\n",
    "6. Age: <i>Age of the Passenger </i>\n",
    "7. SibSp:<i> Number of Siblings accompanying the Passenger </i>\n",
    "8. Parch: <i>Number of Parent accompanying the Passenger </i>\n",
    "9. Ticket: <i>Ticket number of the Passenger </i>\n",
    "10. Fare: <i>The Amount paid by the Passenger    </i>    \n",
    "11. Cabin: <i>Cabin in which the passenger stayed    </i>    \n",
    "12. Embarked: <i>The Port where the passenger embarked the titanic on </i>"
   ]
  },
  {
   "cell_type": "code",
   "execution_count": 566,
   "metadata": {},
   "outputs": [],
   "source": [
    "# importing packages \n",
    "import pandas as pd\n",
    "import numpy as np \n",
    "import statsmodels.api as sm\n",
    "import matplotlib.pyplot as plt \n",
    "import seaborn as sns \n",
    "sns.set_style('darkgrid')\n",
    "%matplotlib inline\n",
    "import sklearn\n",
    "from matplotlib import rcParams \n",
    "\n",
    "rcParams['figure.figsize'] = 10,7"
   ]
  },
  {
   "cell_type": "code",
   "execution_count": 567,
   "metadata": {},
   "outputs": [],
   "source": [
    "# reading training and test datasets \n",
    "\n",
    "train = pd.read_csv('train.csv')\n",
    "test = pd.read_csv('test.csv')"
   ]
  },
  {
   "cell_type": "markdown",
   "metadata": {},
   "source": [
    "### Data Understanding \n",
    "\n",
    "Exploring the data to better understand if any data is missing, the types of data etc"
   ]
  },
  {
   "cell_type": "code",
   "execution_count": 568,
   "metadata": {},
   "outputs": [
    {
     "data": {
      "text/plain": [
       "(891, 12)"
      ]
     },
     "execution_count": 568,
     "metadata": {},
     "output_type": "execute_result"
    }
   ],
   "source": [
    "train.shape"
   ]
  },
  {
   "cell_type": "code",
   "execution_count": 569,
   "metadata": {},
   "outputs": [
    {
     "data": {
      "text/plain": [
       "(418, 11)"
      ]
     },
     "execution_count": 569,
     "metadata": {},
     "output_type": "execute_result"
    }
   ],
   "source": [
    "test.shape"
   ]
  },
  {
   "cell_type": "code",
   "execution_count": 570,
   "metadata": {},
   "outputs": [
    {
     "name": "stdout",
     "output_type": "stream",
     "text": [
      "<class 'pandas.core.frame.DataFrame'>\n",
      "RangeIndex: 891 entries, 0 to 890\n",
      "Data columns (total 12 columns):\n",
      " #   Column       Non-Null Count  Dtype  \n",
      "---  ------       --------------  -----  \n",
      " 0   PassengerId  891 non-null    int64  \n",
      " 1   Survived     891 non-null    int64  \n",
      " 2   Pclass       891 non-null    int64  \n",
      " 3   Name         891 non-null    object \n",
      " 4   Sex          891 non-null    object \n",
      " 5   Age          714 non-null    float64\n",
      " 6   SibSp        891 non-null    int64  \n",
      " 7   Parch        891 non-null    int64  \n",
      " 8   Ticket       891 non-null    object \n",
      " 9   Fare         891 non-null    float64\n",
      " 10  Cabin        204 non-null    object \n",
      " 11  Embarked     889 non-null    object \n",
      "dtypes: float64(2), int64(5), object(5)\n",
      "memory usage: 83.7+ KB\n"
     ]
    }
   ],
   "source": [
    "train.info()"
   ]
  },
  {
   "cell_type": "code",
   "execution_count": 571,
   "metadata": {},
   "outputs": [
    {
     "name": "stdout",
     "output_type": "stream",
     "text": [
      "<class 'pandas.core.frame.DataFrame'>\n",
      "RangeIndex: 418 entries, 0 to 417\n",
      "Data columns (total 11 columns):\n",
      " #   Column       Non-Null Count  Dtype  \n",
      "---  ------       --------------  -----  \n",
      " 0   PassengerId  418 non-null    int64  \n",
      " 1   Pclass       418 non-null    int64  \n",
      " 2   Name         418 non-null    object \n",
      " 3   Sex          418 non-null    object \n",
      " 4   Age          332 non-null    float64\n",
      " 5   SibSp        418 non-null    int64  \n",
      " 6   Parch        418 non-null    int64  \n",
      " 7   Ticket       418 non-null    object \n",
      " 8   Fare         417 non-null    float64\n",
      " 9   Cabin        91 non-null     object \n",
      " 10  Embarked     418 non-null    object \n",
      "dtypes: float64(2), int64(4), object(5)\n",
      "memory usage: 36.0+ KB\n"
     ]
    }
   ],
   "source": [
    "test.info()"
   ]
  },
  {
   "cell_type": "markdown",
   "metadata": {},
   "source": [
    "Training dataset has 891 rows. There are few columns that have missing data like Age, Embarked and Cabin. \n",
    "\n",
    "Test dataset has 418 rows, with a few columns of missing data as well. Age, Fare, Cabin are missing data."
   ]
  },
  {
   "cell_type": "code",
   "execution_count": 572,
   "metadata": {},
   "outputs": [
    {
     "data": {
      "text/html": [
       "<div>\n",
       "<style scoped>\n",
       "    .dataframe tbody tr th:only-of-type {\n",
       "        vertical-align: middle;\n",
       "    }\n",
       "\n",
       "    .dataframe tbody tr th {\n",
       "        vertical-align: top;\n",
       "    }\n",
       "\n",
       "    .dataframe thead th {\n",
       "        text-align: right;\n",
       "    }\n",
       "</style>\n",
       "<table border=\"1\" class=\"dataframe\">\n",
       "  <thead>\n",
       "    <tr style=\"text-align: right;\">\n",
       "      <th></th>\n",
       "      <th>PassengerId</th>\n",
       "      <th>Survived</th>\n",
       "      <th>Pclass</th>\n",
       "      <th>Name</th>\n",
       "      <th>Sex</th>\n",
       "      <th>Age</th>\n",
       "      <th>SibSp</th>\n",
       "      <th>Parch</th>\n",
       "      <th>Ticket</th>\n",
       "      <th>Fare</th>\n",
       "      <th>Cabin</th>\n",
       "      <th>Embarked</th>\n",
       "      <th>Dataset</th>\n",
       "    </tr>\n",
       "  </thead>\n",
       "  <tbody>\n",
       "    <tr>\n",
       "      <th>0</th>\n",
       "      <td>1</td>\n",
       "      <td>0.0</td>\n",
       "      <td>3</td>\n",
       "      <td>Braund, Mr. Owen Harris</td>\n",
       "      <td>male</td>\n",
       "      <td>22.0</td>\n",
       "      <td>1</td>\n",
       "      <td>0</td>\n",
       "      <td>A/5 21171</td>\n",
       "      <td>7.2500</td>\n",
       "      <td>NaN</td>\n",
       "      <td>S</td>\n",
       "      <td>train</td>\n",
       "    </tr>\n",
       "    <tr>\n",
       "      <th>1</th>\n",
       "      <td>2</td>\n",
       "      <td>1.0</td>\n",
       "      <td>1</td>\n",
       "      <td>Cumings, Mrs. John Bradley (Florence Briggs Th...</td>\n",
       "      <td>female</td>\n",
       "      <td>38.0</td>\n",
       "      <td>1</td>\n",
       "      <td>0</td>\n",
       "      <td>PC 17599</td>\n",
       "      <td>71.2833</td>\n",
       "      <td>C85</td>\n",
       "      <td>C</td>\n",
       "      <td>train</td>\n",
       "    </tr>\n",
       "    <tr>\n",
       "      <th>2</th>\n",
       "      <td>3</td>\n",
       "      <td>1.0</td>\n",
       "      <td>3</td>\n",
       "      <td>Heikkinen, Miss. Laina</td>\n",
       "      <td>female</td>\n",
       "      <td>26.0</td>\n",
       "      <td>0</td>\n",
       "      <td>0</td>\n",
       "      <td>STON/O2. 3101282</td>\n",
       "      <td>7.9250</td>\n",
       "      <td>NaN</td>\n",
       "      <td>S</td>\n",
       "      <td>train</td>\n",
       "    </tr>\n",
       "    <tr>\n",
       "      <th>3</th>\n",
       "      <td>4</td>\n",
       "      <td>1.0</td>\n",
       "      <td>1</td>\n",
       "      <td>Futrelle, Mrs. Jacques Heath (Lily May Peel)</td>\n",
       "      <td>female</td>\n",
       "      <td>35.0</td>\n",
       "      <td>1</td>\n",
       "      <td>0</td>\n",
       "      <td>113803</td>\n",
       "      <td>53.1000</td>\n",
       "      <td>C123</td>\n",
       "      <td>S</td>\n",
       "      <td>train</td>\n",
       "    </tr>\n",
       "    <tr>\n",
       "      <th>4</th>\n",
       "      <td>5</td>\n",
       "      <td>0.0</td>\n",
       "      <td>3</td>\n",
       "      <td>Allen, Mr. William Henry</td>\n",
       "      <td>male</td>\n",
       "      <td>35.0</td>\n",
       "      <td>0</td>\n",
       "      <td>0</td>\n",
       "      <td>373450</td>\n",
       "      <td>8.0500</td>\n",
       "      <td>NaN</td>\n",
       "      <td>S</td>\n",
       "      <td>train</td>\n",
       "    </tr>\n",
       "  </tbody>\n",
       "</table>\n",
       "</div>"
      ],
      "text/plain": [
       "   PassengerId  Survived  Pclass  \\\n",
       "0            1       0.0       3   \n",
       "1            2       1.0       1   \n",
       "2            3       1.0       3   \n",
       "3            4       1.0       1   \n",
       "4            5       0.0       3   \n",
       "\n",
       "                                                Name     Sex   Age  SibSp  \\\n",
       "0                            Braund, Mr. Owen Harris    male  22.0      1   \n",
       "1  Cumings, Mrs. John Bradley (Florence Briggs Th...  female  38.0      1   \n",
       "2                             Heikkinen, Miss. Laina  female  26.0      0   \n",
       "3       Futrelle, Mrs. Jacques Heath (Lily May Peel)  female  35.0      1   \n",
       "4                           Allen, Mr. William Henry    male  35.0      0   \n",
       "\n",
       "   Parch            Ticket     Fare Cabin Embarked Dataset  \n",
       "0      0         A/5 21171   7.2500   NaN        S   train  \n",
       "1      0          PC 17599  71.2833   C85        C   train  \n",
       "2      0  STON/O2. 3101282   7.9250   NaN        S   train  \n",
       "3      0            113803  53.1000  C123        S   train  \n",
       "4      0            373450   8.0500   NaN        S   train  "
      ]
     },
     "execution_count": 572,
     "metadata": {},
     "output_type": "execute_result"
    }
   ],
   "source": [
    "# combining both train and test datasets\n",
    "\n",
    "train['Dataset'] = 'train'\n",
    "test['Dataset'] = 'test'\n",
    "\n",
    "df = pd.concat([train, test]).reset_index(drop=True)\n",
    "\n",
    "df.head()"
   ]
  },
  {
   "cell_type": "code",
   "execution_count": 573,
   "metadata": {},
   "outputs": [
    {
     "name": "stdout",
     "output_type": "stream",
     "text": [
      "<class 'pandas.core.frame.DataFrame'>\n",
      "RangeIndex: 1309 entries, 0 to 1308\n",
      "Data columns (total 13 columns):\n",
      " #   Column       Non-Null Count  Dtype  \n",
      "---  ------       --------------  -----  \n",
      " 0   PassengerId  1309 non-null   int64  \n",
      " 1   Survived     891 non-null    float64\n",
      " 2   Pclass       1309 non-null   int64  \n",
      " 3   Name         1309 non-null   object \n",
      " 4   Sex          1309 non-null   object \n",
      " 5   Age          1046 non-null   float64\n",
      " 6   SibSp        1309 non-null   int64  \n",
      " 7   Parch        1309 non-null   int64  \n",
      " 8   Ticket       1309 non-null   object \n",
      " 9   Fare         1308 non-null   float64\n",
      " 10  Cabin        295 non-null    object \n",
      " 11  Embarked     1307 non-null   object \n",
      " 12  Dataset      1309 non-null   object \n",
      "dtypes: float64(3), int64(4), object(6)\n",
      "memory usage: 133.1+ KB\n"
     ]
    }
   ],
   "source": [
    "df.info()"
   ]
  },
  {
   "cell_type": "markdown",
   "metadata": {},
   "source": [
    "#### Categorical Data\n",
    "\n",
    "There are 5 columns with categorical data: Name, Sex, Ticket, Cabin, and Embarked"
   ]
  },
  {
   "cell_type": "code",
   "execution_count": 574,
   "metadata": {},
   "outputs": [
    {
     "name": "stdout",
     "output_type": "stream",
     "text": [
      "Connolly, Miss. Kate                                   0.001528\n",
      "Kelly, Mr. James                                       0.001528\n",
      "Braund, Mr. Owen Harris                                0.000764\n",
      "Johnson, Master. Harold Theodor                        0.000764\n",
      "Gustafsson, Mr. Alfred Ossian                          0.000764\n",
      "                                                         ...   \n",
      "Carter, Miss. Lucile Polk                              0.000764\n",
      "Silvey, Mr. William Baird                              0.000764\n",
      "Kallio, Mr. Nikolai Erland                             0.000764\n",
      "Louch, Mrs. Charles Alexander (Alice Adelaide Slow)    0.000764\n",
      "Peter, Master. Michael J                               0.000764\n",
      "Name: Name, Length: 1307, dtype: float64\n",
      "\n",
      "\n",
      "male      0.644003\n",
      "female    0.355997\n",
      "Name: Sex, dtype: float64\n",
      "\n",
      "\n",
      "CA. 2343        0.008403\n",
      "CA 2144         0.006112\n",
      "1601            0.006112\n",
      "PC 17608        0.005348\n",
      "S.O.C. 14879    0.005348\n",
      "                  ...   \n",
      "113792          0.000764\n",
      "36209           0.000764\n",
      "323592          0.000764\n",
      "315089          0.000764\n",
      "359309          0.000764\n",
      "Name: Ticket, Length: 929, dtype: float64\n",
      "\n",
      "\n",
      "C23 C25 C27        0.020339\n",
      "G6                 0.016949\n",
      "B57 B59 B63 B66    0.016949\n",
      "C22 C26            0.013559\n",
      "F33                0.013559\n",
      "                     ...   \n",
      "A14                0.003390\n",
      "E63                0.003390\n",
      "E12                0.003390\n",
      "E38                0.003390\n",
      "C105               0.003390\n",
      "Name: Cabin, Length: 186, dtype: float64\n",
      "\n",
      "\n",
      "S    0.699311\n",
      "C    0.206580\n",
      "Q    0.094109\n",
      "Name: Embarked, dtype: float64\n",
      "\n",
      "\n"
     ]
    }
   ],
   "source": [
    "cols = ['Name', 'Sex', 'Ticket', 'Cabin', 'Embarked']\n",
    "\n",
    "for i in cols:\n",
    "    print(df[i].value_counts(normalize=True))\n",
    "    print('\\n')"
   ]
  },
  {
   "cell_type": "markdown",
   "metadata": {},
   "source": [
    "Name, Ticket and Cabin have many different values as expected. "
   ]
  },
  {
   "cell_type": "markdown",
   "metadata": {},
   "source": [
    "#### Numerical Data \n",
    "\n",
    "There are 7 numerical columns: Passenger ID, Survived, Fare, Age, SibSp, Parch, PClass\n",
    "\n",
    "Since PassengerID is a unique identifier for all passengers, we will exclude it for this analysis"
   ]
  },
  {
   "cell_type": "code",
   "execution_count": 575,
   "metadata": {},
   "outputs": [
    {
     "data": {
      "image/png": "[encoded data removed]",
      "text/plain": [
       "<Figure size 1440x576 with 6 Axes>"
      ]
     },
     "metadata": {
      "needs_background": "light"
     },
     "output_type": "display_data"
    }
   ],
   "source": [
    "cols = ['Survived', 'Fare', 'Age', 'SibSp', 'Parch', 'Pclass']\n",
    "\n",
    "plt.rc('figure', figsize=(20,8))\n",
    "\n",
    "fig, axs = plt.subplots(nrows=2, ncols=3)\n",
    "\n",
    "for idx, col in enumerate(cols):\n",
    "    ax = axs[int(idx/3), idx%3]\n",
    "    sns.histplot(x=col, data=df, ax=ax)\n",
    "    ax.set_xlabel('')\n",
    "    ax.set_ylabel(col)\n",
    "fig.tight_layout();"
   ]
  },
  {
   "cell_type": "markdown",
   "metadata": {},
   "source": [
    "Few notable observations:\n",
    "\n",
    "1. Good balance of survived and non survived, meaning the data isnt too imbalanced.\n",
    "2. Most of the fare is less than $50 which makes sense since most people were in teh 3rd class.\n",
    "3. Most passengers were in their 20-30s, with low going below 5 and as high as 75\n",
    "4. Most passengers had none to one siblings and travelled with either none, one or two parents"
   ]
  },
  {
   "cell_type": "markdown",
   "metadata": {},
   "source": [
    "-----------------------------"
   ]
  },
  {
   "cell_type": "markdown",
   "metadata": {},
   "source": [
    "#### Correlation between variables \n",
    "\n",
    "Checking to see if there are variables that are coorealated as well as how variables impact Survival rates"
   ]
  },
  {
   "cell_type": "code",
   "execution_count": 576,
   "metadata": {},
   "outputs": [
    {
     "data": {
      "image/png": "[encoded data removed]",
      "text/plain": [
       "<Figure size 720x720 with 1 Axes>"
      ]
     },
     "metadata": {},
     "output_type": "display_data"
    }
   ],
   "source": [
    "# Checking for relationships between variables \n",
    "plt.rc('figure', figsize=(10,10))\n",
    "corr = train.corr()\n",
    "corr = corr.round(1)\n",
    "mask = np.zeros_like(corr)\n",
    "mask[np.triu_indices_from(mask)] = True\n",
    "\n",
    "with sns.axes_style(\"white\"):\n",
    "    sns.heatmap(corr, mask=mask, \n",
    "                xticklabels=corr.columns.values, yticklabels=corr.columns.values,\n",
    "                center=0, cbar=False, annot=True)"
   ]
  },
  {
   "cell_type": "markdown",
   "metadata": {},
   "source": [
    "Fare and Pclass seem to have the highest correlation with Survived, but it is still quite low"
   ]
  },
  {
   "cell_type": "markdown",
   "metadata": {},
   "source": [
    "------------------------------------------------------------------"
   ]
  },
  {
   "cell_type": "markdown",
   "metadata": {},
   "source": [
    "<i> Question: </i> Did younger people have a higher chance of survival? Also did people who paid more money for their tickets end up having a higher chance of survival?"
   ]
  },
  {
   "cell_type": "markdown",
   "metadata": {},
   "source": [
    "It is clear that children and older people had a high chance of survival. As well as, people who paid more for their ticket had a higher chance of survival"
   ]
  },
  {
   "cell_type": "code",
   "execution_count": 577,
   "metadata": {},
   "outputs": [
    {
     "data": {
      "text/plain": [
       "<matplotlib.axes._subplots.AxesSubplot at 0x2ca59ca2b20>"
      ]
     },
     "execution_count": 577,
     "metadata": {},
     "output_type": "execute_result"
    },
    {
     "data": {
      "image/png": "[encoded data removed]",
      "text/plain": [
       "<Figure size 1440x576 with 2 Axes>"
      ]
     },
     "metadata": {
      "needs_background": "light"
     },
     "output_type": "display_data"
    }
   ],
   "source": [
    "# Checking to see how variables impact survival rates\n",
    "fig, axs = plt.subplots(nrows=1,ncols=2, figsize=(20,8))\n",
    "\n",
    "sns.histplot(data=train, x=train['Age'], hue=train['Survived'], kde=True, ax=axs[0])\n",
    "sns.histplot(data=train, x=train['Fare'], hue=train['Survived'], kde=True, ax=axs[1])"
   ]
  },
  {
   "cell_type": "markdown",
   "metadata": {},
   "source": [
    "----------------------------------"
   ]
  },
  {
   "cell_type": "markdown",
   "metadata": {},
   "source": [
    "<i> Question: </i> If you had more people in your family, did that reduce the chances of survival? "
   ]
  },
  {
   "cell_type": "code",
   "execution_count": 578,
   "metadata": {},
   "outputs": [
    {
     "data": {
      "text/plain": [
       "<matplotlib.axes._subplots.AxesSubplot at 0x2ca5a4aa6d0>"
      ]
     },
     "execution_count": 578,
     "metadata": {},
     "output_type": "execute_result"
    },
    {
     "data": {
      "image/png": "[encoded data removed]",
      "text/plain": [
       "<Figure size 1440x576 with 3 Axes>"
      ]
     },
     "metadata": {
      "needs_background": "light"
     },
     "output_type": "display_data"
    }
   ],
   "source": [
    "#family = train.groupby(['SibSp', 'Parch'], as_index=False).agg({'Survived': ['count', 'sum']})\n",
    "#family['TotalSizeFamily'] = family['SibSp'] + family['Parch']\n",
    "#family['PercSurvived'] = family['Survived']['sum']/family['Survived']['count']\n",
    "\n",
    "family = train[['SibSp', 'Parch', 'Survived']].copy()\n",
    "family['FamilySize'] = family['SibSp'] + family['Parch']\n",
    "\n",
    "plt.rc('figure', figsize=(20,8))\n",
    "\n",
    "fig, axs = plt.subplots(nrows=1, ncols=3)\n",
    "\n",
    "sns.histplot(x='SibSp', data=family, hue='Survived', kde=True, multiple='stack', ax=axs[0])\n",
    "sns.histplot(x='Parch', data=family, hue='Survived', kde=True,  multiple='stack',ax=axs[1])\n",
    "sns.histplot(x='FamilySize', data=family, hue='Survived', kde=True, multiple='stack', ax=axs[2])"
   ]
  },
  {
   "cell_type": "markdown",
   "metadata": {},
   "source": [
    "----------------------------------------"
   ]
  },
  {
   "cell_type": "markdown",
   "metadata": {},
   "source": [
    "<i> Question: </i> Did passengers in the first or second class have a better chance of survival than passengers in the third class"
   ]
  },
  {
   "cell_type": "markdown",
   "metadata": {},
   "source": [
    "Clearly, if the passenger was in the first class, his/her chance of survival was higher than either of the other classes. "
   ]
  },
  {
   "cell_type": "code",
   "execution_count": 579,
   "metadata": {},
   "outputs": [
    {
     "data": {
      "text/plain": [
       "<matplotlib.axes._subplots.AxesSubplot at 0x2ca5a9745b0>"
      ]
     },
     "execution_count": 579,
     "metadata": {},
     "output_type": "execute_result"
    },
    {
     "data": {
      "image/png": "[encoded data removed]",
      "text/plain": [
       "<Figure size 1440x576 with 1 Axes>"
      ]
     },
     "metadata": {
      "needs_background": "light"
     },
     "output_type": "display_data"
    }
   ],
   "source": [
    "sns.histplot(x='Pclass', data=train, hue='Survived', multiple=\"stack\")"
   ]
  },
  {
   "cell_type": "code",
   "execution_count": 580,
   "metadata": {},
   "outputs": [
    {
     "data": {
      "text/html": [
       "<div>\n",
       "<style scoped>\n",
       "    .dataframe tbody tr th:only-of-type {\n",
       "        vertical-align: middle;\n",
       "    }\n",
       "\n",
       "    .dataframe tbody tr th {\n",
       "        vertical-align: top;\n",
       "    }\n",
       "\n",
       "    .dataframe thead th {\n",
       "        text-align: right;\n",
       "    }\n",
       "</style>\n",
       "<table border=\"1\" class=\"dataframe\">\n",
       "  <thead>\n",
       "    <tr style=\"text-align: right;\">\n",
       "      <th></th>\n",
       "      <th>Pclass</th>\n",
       "      <th>Survived</th>\n",
       "      <th>PassengerId</th>\n",
       "    </tr>\n",
       "  </thead>\n",
       "  <tbody>\n",
       "    <tr>\n",
       "      <th>0</th>\n",
       "      <td>1</td>\n",
       "      <td>0</td>\n",
       "      <td>80</td>\n",
       "    </tr>\n",
       "    <tr>\n",
       "      <th>1</th>\n",
       "      <td>1</td>\n",
       "      <td>1</td>\n",
       "      <td>136</td>\n",
       "    </tr>\n",
       "    <tr>\n",
       "      <th>2</th>\n",
       "      <td>2</td>\n",
       "      <td>0</td>\n",
       "      <td>97</td>\n",
       "    </tr>\n",
       "    <tr>\n",
       "      <th>3</th>\n",
       "      <td>2</td>\n",
       "      <td>1</td>\n",
       "      <td>87</td>\n",
       "    </tr>\n",
       "    <tr>\n",
       "      <th>4</th>\n",
       "      <td>3</td>\n",
       "      <td>0</td>\n",
       "      <td>372</td>\n",
       "    </tr>\n",
       "    <tr>\n",
       "      <th>5</th>\n",
       "      <td>3</td>\n",
       "      <td>1</td>\n",
       "      <td>119</td>\n",
       "    </tr>\n",
       "  </tbody>\n",
       "</table>\n",
       "</div>"
      ],
      "text/plain": [
       "   Pclass  Survived  PassengerId\n",
       "0       1         0           80\n",
       "1       1         1          136\n",
       "2       2         0           97\n",
       "3       2         1           87\n",
       "4       3         0          372\n",
       "5       3         1          119"
      ]
     },
     "execution_count": 580,
     "metadata": {},
     "output_type": "execute_result"
    }
   ],
   "source": [
    "pclass = train.groupby(['Pclass', 'Survived'], as_index=False)['PassengerId'].count()\n",
    "\n",
    "pclass"
   ]
  },
  {
   "cell_type": "markdown",
   "metadata": {},
   "source": [
    "----------------------------"
   ]
  },
  {
   "cell_type": "markdown",
   "metadata": {},
   "source": [
    "<i> Question: </i> Did the port of embarkment have any relation to whether a passenger survived? Also is there a correlation between port of embarkment and the class a passenger is in?"
   ]
  },
  {
   "cell_type": "markdown",
   "metadata": {},
   "source": [
    "Passengers who got on Cherbourg survived on average more than the other two ports. "
   ]
  },
  {
   "cell_type": "code",
   "execution_count": 581,
   "metadata": {},
   "outputs": [
    {
     "name": "stdout",
     "output_type": "stream",
     "text": [
      "Embarked  Survived\n",
      "C         0            75\n",
      "          1            93\n",
      "Q         0            47\n",
      "          1            30\n",
      "S         0           427\n",
      "          1           217\n",
      "Name: Pclass, dtype: int64\n"
     ]
    }
   ],
   "source": [
    "embarked = train[['Embarked', 'Pclass', 'Survived']]\n",
    "\n",
    "print(embarked.groupby(['Embarked', 'Survived'])['Pclass'].count())"
   ]
  },
  {
   "cell_type": "code",
   "execution_count": 582,
   "metadata": {},
   "outputs": [
    {
     "data": {
      "text/plain": [
       "Embarked  Pclass\n",
       "C         1          85\n",
       "          2          17\n",
       "          3          66\n",
       "Q         1           2\n",
       "          2           3\n",
       "          3          72\n",
       "S         1         127\n",
       "          2         164\n",
       "          3         353\n",
       "Name: Survived, dtype: int64"
      ]
     },
     "execution_count": 582,
     "metadata": {},
     "output_type": "execute_result"
    }
   ],
   "source": [
    "embarked.groupby(['Embarked', 'Pclass'])['Survived'].count()"
   ]
  },
  {
   "cell_type": "code",
   "execution_count": 583,
   "metadata": {},
   "outputs": [
    {
     "data": {
      "text/plain": [
       "<matplotlib.axes._subplots.AxesSubplot at 0x2ca575f7fa0>"
      ]
     },
     "execution_count": 583,
     "metadata": {},
     "output_type": "execute_result"
    },
    {
     "data": {
      "image/png": "[encoded data removed]",
      "text/plain": [
       "<Figure size 1440x576 with 1 Axes>"
      ]
     },
     "metadata": {
      "needs_background": "light"
     },
     "output_type": "display_data"
    }
   ],
   "source": [
    "embarked = embarked.groupby(['Embarked', 'Pclass'], as_index=False).agg({'Survived': ['count', 'sum']})\n",
    "embarked['PercSurvived'] = round((embarked['Survived']['sum']/embarked['Survived']['count'])*100,2)\n",
    "\n",
    "sns.barplot(x='Embarked', y='PercSurvived', hue='Pclass', data=embarked)"
   ]
  },
  {
   "cell_type": "markdown",
   "metadata": {},
   "source": [
    "------------------------"
   ]
  },
  {
   "cell_type": "markdown",
   "metadata": {},
   "source": [
    "<i> Question: </i> Did women have a higher chance of survival?"
   ]
  },
  {
   "cell_type": "markdown",
   "metadata": {},
   "source": [
    "Women had a much higher chance of survival than men"
   ]
  },
  {
   "cell_type": "code",
   "execution_count": 584,
   "metadata": {},
   "outputs": [
    {
     "data": {
      "text/plain": [
       "Sex     Survived\n",
       "female  0            81\n",
       "        1           233\n",
       "male    0           468\n",
       "        1           109\n",
       "Name: PassengerId, dtype: int64"
      ]
     },
     "execution_count": 584,
     "metadata": {},
     "output_type": "execute_result"
    }
   ],
   "source": [
    "train.groupby(['Sex', 'Survived'])['PassengerId'].count()"
   ]
  },
  {
   "cell_type": "markdown",
   "metadata": {},
   "source": [
    "-----------------------------------"
   ]
  },
  {
   "cell_type": "markdown",
   "metadata": {},
   "source": [
    "<i> Question: </i> Is there a relationship between Cabin and Survival rate? "
   ]
  },
  {
   "cell_type": "markdown",
   "metadata": {},
   "source": [
    "Cabins A,B and C had only first class passengers. B,C,D,E have the highest chance of survival, which makes sense since most of them have first class passengers."
   ]
  },
  {
   "cell_type": "code",
   "execution_count": 585,
   "metadata": {},
   "outputs": [],
   "source": [
    "# Extracting the first alphabet of the Cabin \n",
    "def cabin(col):\n",
    "    val = col[0]\n",
    "    return val\n",
    "\n",
    "train['Cabin'] = train['Cabin'].fillna('M')\n",
    "train['Cabin'] = train['Cabin'].apply(lambda x: cabin(x))"
   ]
  },
  {
   "cell_type": "code",
   "execution_count": 586,
   "metadata": {},
   "outputs": [
    {
     "data": {
      "text/plain": [
       "<matplotlib.legend.Legend at 0x2ca50720a60>"
      ]
     },
     "execution_count": 586,
     "metadata": {},
     "output_type": "execute_result"
    },
    {
     "data": {
      "image/png": "[encoded data removed]",
      "text/plain": [
       "<Figure size 864x720 with 2 Axes>"
      ]
     },
     "metadata": {
      "needs_background": "light"
     },
     "output_type": "display_data"
    }
   ],
   "source": [
    "# Plotting the relationship between Cabins and Pclass and the relationship between Cabin and Survival Rate\n",
    "\n",
    "# Grouping by Pclass and Cabin\n",
    "pclass = train.groupby(['Cabin', 'Pclass'], as_index=False)['PassengerId'].count()\n",
    "pclass = pclass.pivot(index='Cabin', columns='Pclass', values='PassengerId')\n",
    "pclass = pclass.fillna(0)\n",
    "pclass['Total'] = pclass[1] + pclass[2] + pclass[3]\n",
    "pclass['First-Class-Perc'] = pclass[1]/pclass['Total']\n",
    "pclass['Second-Class-Perc'] = pclass[2]/pclass['Total']\n",
    "pclass['Third-Class-Perc'] = pclass[3]/pclass['Total']\n",
    "pclass['Cabin'] = pclass.index.values\n",
    "\n",
    "# Grouping by Cabin and Survived\n",
    "survived = train.groupby(['Cabin', 'Survived'], as_index=False)['PassengerId'].count()\n",
    "survived['Survived'].replace({0:'Died', 1:'Survived'}, inplace=True)\n",
    "survived = survived.pivot(index='Cabin', columns='Survived', values='PassengerId')\n",
    "survived['Total'] = survived['Died'] + survived['Survived']\n",
    "survived['Died-Perc'] = survived.Died / (survived.Died+survived.Survived)\n",
    "survived['Survived-Perc'] = 1-survived['Died-Perc']\n",
    "survived['Cabin'] = survived.index.values\n",
    "\n",
    "\n",
    "fig, (ax1,ax2) = plt.subplots(nrows=2, ncols=1, figsize=(12,10))\n",
    "\n",
    "barWidth = 0.85 \n",
    "\n",
    "ax1.bar(pclass['Cabin'], pclass['First-Class-Perc'], edgecolor='white', width=barWidth, label='First Class')\n",
    "ax1.bar(pclass['Cabin'], pclass['Second-Class-Perc'], bottom=pclass['First-Class-Perc']\n",
    "        , edgecolor='white', width=barWidth, label='Second Class')\n",
    "ax1.bar(pclass['Cabin'], pclass['Third-Class-Perc'], bottom=pclass['First-Class-Perc']+pclass['Second-Class-Perc']\n",
    "        , edgecolor='white', width=barWidth, label='Third Class')\n",
    "ax1.legend(loc='upper left', bbox_to_anchor=(1,1), ncol=1)\n",
    "\n",
    "\n",
    "ax2.bar(survived['Cabin'], survived['Died-Perc'],  edgecolor='white', width=barWidth, label='Died')\n",
    "ax2.bar(survived['Cabin'], survived['Survived-Perc'], bottom=survived['Died-Perc']\n",
    "        , edgecolor='white', width=barWidth, label='Survived')\n",
    "ax2.legend(loc='upper left', bbox_to_anchor=(1,1), ncol=1)"
   ]
  },
  {
   "cell_type": "markdown",
   "metadata": {},
   "source": [
    "-------------------------------------------------------"
   ]
  },
  {
   "cell_type": "markdown",
   "metadata": {},
   "source": [
    "### Data Preparation/Wrangling"
   ]
  },
  {
   "cell_type": "markdown",
   "metadata": {},
   "source": [
    "First step is to fill in the missing values"
   ]
  },
  {
   "cell_type": "code",
   "execution_count": 587,
   "metadata": {},
   "outputs": [
    {
     "data": {
      "text/plain": [
       "Cabin          1014\n",
       "Survived        418\n",
       "Age             263\n",
       "Embarked          2\n",
       "Fare              1\n",
       "PassengerId       0\n",
       "Pclass            0\n",
       "Name              0\n",
       "Sex               0\n",
       "SibSp             0\n",
       "Parch             0\n",
       "Ticket            0\n",
       "Dataset           0\n",
       "dtype: int64"
      ]
     },
     "execution_count": 587,
     "metadata": {},
     "output_type": "execute_result"
    }
   ],
   "source": [
    "df.isnull().sum().sort_values(ascending=False)"
   ]
  },
  {
   "cell_type": "code",
   "execution_count": 588,
   "metadata": {},
   "outputs": [],
   "source": [
    "# Fill missing values in cabin column with 'M'\n",
    "df['Cabin'] = df['Cabin'].fillna('M')"
   ]
  },
  {
   "cell_type": "code",
   "execution_count": 589,
   "metadata": {},
   "outputs": [],
   "source": [
    "# Based on the internet Mrs George Nelson Stone embarked from Southampton \n",
    "df['Embarked'] = df['Embarked'].fillna('S')"
   ]
  },
  {
   "cell_type": "code",
   "execution_count": 590,
   "metadata": {},
   "outputs": [],
   "source": [
    "# Filling in the missing value for Fare with the median value \n",
    "df['Fare'] = df['Fare'].fillna(df['Fare'].median())"
   ]
  },
  {
   "cell_type": "code",
   "execution_count": 591,
   "metadata": {},
   "outputs": [
    {
     "data": {
      "text/html": [
       "<div>\n",
       "<style scoped>\n",
       "    .dataframe tbody tr th:only-of-type {\n",
       "        vertical-align: middle;\n",
       "    }\n",
       "\n",
       "    .dataframe tbody tr th {\n",
       "        vertical-align: top;\n",
       "    }\n",
       "\n",
       "    .dataframe thead th {\n",
       "        text-align: right;\n",
       "    }\n",
       "</style>\n",
       "<table border=\"1\" class=\"dataframe\">\n",
       "  <thead>\n",
       "    <tr style=\"text-align: right;\">\n",
       "      <th></th>\n",
       "      <th>Sex</th>\n",
       "      <th>Pclass</th>\n",
       "      <th>Age</th>\n",
       "    </tr>\n",
       "  </thead>\n",
       "  <tbody>\n",
       "    <tr>\n",
       "      <th>0</th>\n",
       "      <td>female</td>\n",
       "      <td>1</td>\n",
       "      <td>36.0</td>\n",
       "    </tr>\n",
       "    <tr>\n",
       "      <th>1</th>\n",
       "      <td>female</td>\n",
       "      <td>2</td>\n",
       "      <td>28.0</td>\n",
       "    </tr>\n",
       "    <tr>\n",
       "      <th>2</th>\n",
       "      <td>female</td>\n",
       "      <td>3</td>\n",
       "      <td>22.0</td>\n",
       "    </tr>\n",
       "    <tr>\n",
       "      <th>3</th>\n",
       "      <td>male</td>\n",
       "      <td>1</td>\n",
       "      <td>42.0</td>\n",
       "    </tr>\n",
       "    <tr>\n",
       "      <th>4</th>\n",
       "      <td>male</td>\n",
       "      <td>2</td>\n",
       "      <td>29.5</td>\n",
       "    </tr>\n",
       "    <tr>\n",
       "      <th>5</th>\n",
       "      <td>male</td>\n",
       "      <td>3</td>\n",
       "      <td>25.0</td>\n",
       "    </tr>\n",
       "  </tbody>\n",
       "</table>\n",
       "</div>"
      ],
      "text/plain": [
       "      Sex  Pclass   Age\n",
       "0  female       1  36.0\n",
       "1  female       2  28.0\n",
       "2  female       3  22.0\n",
       "3    male       1  42.0\n",
       "4    male       2  29.5\n",
       "5    male       3  25.0"
      ]
     },
     "execution_count": 591,
     "metadata": {},
     "output_type": "execute_result"
    }
   ],
   "source": [
    "df.groupby(['Sex', 'Pclass'], as_index=False).agg({'Age':'median'})"
   ]
  },
  {
   "cell_type": "code",
   "execution_count": 592,
   "metadata": {},
   "outputs": [],
   "source": [
    "# Based on correlation, we use Pclass and Sex to find the median values to fill in. \n",
    "df['Age'] = df.groupby(['Sex', 'Pclass'])['Age'].apply(lambda x: x.fillna(x.median()))"
   ]
  },
  {
   "cell_type": "code",
   "execution_count": 593,
   "metadata": {},
   "outputs": [],
   "source": [
    "import string\n",
    "def features(df):\n",
    "    df['FamilySize'] = df['Parch'] + df['SibSp'] + 1 \n",
    "    df.drop(['Parch', 'SibSp'], inplace=True, axis=1)\n",
    "    \n",
    "    df['Title'] = df['Name'].apply(lambda x: x.split(',')[1].strip().split(' ')[0])\n",
    "    df['Is_married'] = np.where(df['Title']=='Mrs',1,0)\n",
    "    df['Title'] = [0 if x in ['Mr.', 'Mrs.', 'Miss.'] else 1 for x in df['Title']]\n",
    "    df = df.rename(columns={'Title': 'Title_unusual'})\n",
    "    \n",
    "    # Making Passenger ID the index\n",
    "    df = df.set_index('PassengerId')\n",
    "    \n",
    "    # Counting Ticket Frequency \n",
    "    df['TicketFrequency'] = df.groupby('Ticket')['Ticket'].transform('count')\n",
    "    \n",
    "    # converting Pclass to categorical \n",
    "    df['Pclass'] = df['Pclass'].astype(\"category\")\n",
    "\n",
    "    # Converting Cabin to just the cabin floor \n",
    "    df['Cabin'] = df['Cabin'].apply(lambda x: cabin(x))\n",
    "    \n",
    "    return df \n",
    "\n",
    "def name_extraction(df):\n",
    "    families = []\n",
    "    \n",
    "    for i in range(len(df)):\n",
    "        name = df.iloc[i]\n",
    "        \n",
    "        if '(' in name:\n",
    "            name_no_bracket = name.split('(')[0]\n",
    "        else:\n",
    "            name_no_bracket = name \n",
    "            \n",
    "        family = name_no_bracket.split(',')[0]\n",
    "        title = name_no_bracket.split(',')[1].strip().split(' ')[0]\n",
    "        \n",
    "        for c in string.punctuation:\n",
    "            family = family.replace(c, '').strip()\n",
    "            \n",
    "        families.append(family)\n",
    "    return families\n",
    "\n",
    "# Label Encoding Numerical Features\n",
    "from sklearn.preprocessing import OneHotEncoder, LabelEncoder, StandardScaler\n",
    "\n",
    "def label_encoding(df, non_numeric):\n",
    "    #non_numeric = ['Embarked', 'Sex', 'Pclass', 'Cabin']\n",
    "    for col in non_numeric:\n",
    "        df[col] = LabelEncoder().fit_transform(df[col])\n",
    "        \n",
    "    return df\n",
    "\n",
    "def onehotencode(df, cat_features):\n",
    "    #cat_features = ['Pclass', 'Sex', 'Cabin','Embarked']\n",
    "    encoded = []\n",
    "    for col in cat_features:\n",
    "        encoded_feat = OneHotEncoder().fit_transform(df[col].values.reshape(-1,1)).toarray()\n",
    "        n = df[col].nunique()\n",
    "        cols = ['{}_{}'.format(col, n) for n in range(1, n+1)]\n",
    "        encoded_df = pd.DataFrame(encoded_feat, columns=cols)\n",
    "        encoded_df.index = df.index\n",
    "        encoded.append(encoded_df)\n",
    "        \n",
    "    df = pd.concat([df, *encoded[:5]], axis=1)\n",
    "    df.drop(cat_features, inplace=True, axis=1)\n",
    "    return df"
   ]
  },
  {
   "cell_type": "code",
   "execution_count": 594,
   "metadata": {},
   "outputs": [],
   "source": [
    "df = features(df)\n",
    "df['Family'] = name_extraction(df['Name'])\n",
    "df.drop('Name', axis=1, inplace=True)"
   ]
  },
  {
   "cell_type": "code",
   "execution_count": 595,
   "metadata": {},
   "outputs": [],
   "source": [
    "# Splitting the data into two \n",
    "\n",
    "train_data = df[df['Dataset']=='train'].copy()\n",
    "test_data = df[df['Dataset']=='test'].copy()"
   ]
  },
  {
   "cell_type": "code",
   "execution_count": 596,
   "metadata": {},
   "outputs": [],
   "source": [
    "# Creating a list of families and tickets that are occuring in both training and test set \n",
    "non_unique_families = [x for x in train_data['Family'].unique() if x in test_data['Family'].unique()]\n",
    "non_unique_tickets = [x for x in train_data['Ticket'].unique() if x in test_data['Ticket'].unique()]\n",
    "\n",
    "df_family_survival_rate = train_data.groupby('Family')[['Survived', 'Family', 'FamilySize']].median()\n",
    "df_ticket_survival_rate = train_data.groupby('Ticket')[['Survived', 'Ticket', 'TicketFrequency']].median()\n",
    "\n",
    "family_rates = {}\n",
    "ticket_rates = {}\n",
    "\n",
    "\n",
    "for i in range(len(df_family_survival_rate)):\n",
    "    if df_family_survival_rate.index[i] in non_unique_families and df_family_survival_rate.iloc[i,1] > 1:\n",
    "         family_rates[df_family_survival_rate.index[i]] = df_family_survival_rate.iloc[i, 0]\n",
    "\n",
    "for i in range(len(df_ticket_survival_rate)):\n",
    "    if df_ticket_survival_rate.index[i] in non_unique_tickets and df_ticket_survival_rate.iloc[i, 1] > 1:\n",
    "        ticket_rates[df_ticket_survival_rate.index[i]] = df_ticket_survival_rate.iloc[i, 0]\n"
   ]
  },
  {
   "cell_type": "code",
   "execution_count": 597,
   "metadata": {},
   "outputs": [],
   "source": [
    "mean_survival_rate = np.mean(train_data['Survived'])\n",
    "\n",
    "train_family_survival_rate = []\n",
    "train_family_survival_rate_NA = []\n",
    "test_family_survival_rate = []\n",
    "test_family_survival_rate_NA = []\n",
    "\n",
    "for i in range(len(train_data)):\n",
    "    if train_data['Family'].iloc[i] in family_rates:\n",
    "        train_family_survival_rate.append(family_rates[train_data['Family'].iloc[i]])\n",
    "        train_family_survival_rate_NA.append(1)\n",
    "    else:\n",
    "        train_family_survival_rate.append(mean_survival_rate)\n",
    "        train_family_survival_rate_NA.append(0)\n",
    "        \n",
    "for i in range(len(test_data)):\n",
    "    if test_data['Family'].iloc[i] in family_rates:\n",
    "        test_family_survival_rate.append(family_rates[test_data['Family'].iloc[i]])\n",
    "        test_family_survival_rate_NA.append(1)\n",
    "    else:\n",
    "        test_family_survival_rate.append(mean_survival_rate)\n",
    "        test_family_survival_rate_NA.append(0)\n",
    "        \n",
    "train_data['Family_Survival_Rate'] = train_family_survival_rate\n",
    "train_data['Family_Survival_Rate_NA'] = train_family_survival_rate_NA\n",
    "test_data['Family_Survival_Rate'] = test_family_survival_rate\n",
    "test_data['Family_Survival_Rate_NA'] = test_family_survival_rate_NA\n",
    "\n",
    "train_ticket_survival_rate = []\n",
    "train_ticket_survival_rate_NA = []\n",
    "test_ticket_survival_rate = []\n",
    "test_ticket_survival_rate_NA = []\n",
    "\n",
    "for i in range(len(train_data)):\n",
    "    if train_data['Ticket'].iloc[i] in ticket_rates:\n",
    "        train_ticket_survival_rate.append(ticket_rates[train_data['Ticket'].iloc[i]])\n",
    "        train_ticket_survival_rate_NA.append(1)\n",
    "    else:\n",
    "        train_ticket_survival_rate.append(mean_survival_rate)\n",
    "        train_ticket_survival_rate_NA.append(0)\n",
    "        \n",
    "for i in range(len(test_data)):\n",
    "    if test_data['Ticket'].iloc[i] in ticket_rates:\n",
    "        test_ticket_survival_rate.append(ticket_rates[test_data['Ticket'].iloc[i]])\n",
    "        test_ticket_survival_rate_NA.append(1)\n",
    "    else:\n",
    "        test_ticket_survival_rate.append(mean_survival_rate)\n",
    "        test_ticket_survival_rate_NA.append(0)\n",
    "        \n",
    "train_data['Ticket_Survival_Rate'] = train_ticket_survival_rate\n",
    "train_data['Ticket_Survival_Rate_NA'] = train_ticket_survival_rate_NA\n",
    "test_data['Ticket_Survival_Rate'] = test_ticket_survival_rate\n",
    "test_data['Ticket_Survival_Rate_NA'] = test_ticket_survival_rate_NA"
   ]
  },
  {
   "cell_type": "code",
   "execution_count": 598,
   "metadata": {},
   "outputs": [],
   "source": [
    "for df in [train_data, test_data]:\n",
    "    df['Survival_Rate'] = (df['Ticket_Survival_Rate'] + df['Family_Survival_Rate']) / 2\n",
    "    df['Survival_Rate_NA'] = (df['Ticket_Survival_Rate_NA'] + df['Family_Survival_Rate_NA']) / 2"
   ]
  },
  {
   "cell_type": "code",
   "execution_count": 599,
   "metadata": {},
   "outputs": [],
   "source": [
    "train_data['Cabin'].replace({'A':'ABC', 'B':'ABC', 'C':'ABC', 'D':'DE', 'E':'DE', 'F':'FG', 'G':'FG', 'M':'M'}, inplace=True)\n",
    "test_data['Cabin'].replace({'A':'ABC', 'B':'ABC', 'C':'ABC', 'D':'DE', 'E':'DE', 'F':'FG', 'G':'FG', 'M':'M'}, inplace=True)"
   ]
  },
  {
   "cell_type": "code",
   "execution_count": 600,
   "metadata": {},
   "outputs": [],
   "source": [
    "test_data.drop(['Survived', 'Dataset', 'Ticket', 'Family', 'Family_Survival_Rate',\n",
    "               'Family_Survival_Rate_NA', 'Ticket_Survival_Rate', 'Ticket_Survival_Rate_NA']\n",
    "               , axis=1, inplace=True)\n",
    "train_data.drop(['Dataset', 'Ticket', 'Family', 'Family_Survival_Rate',\n",
    "               'Family_Survival_Rate_NA', 'Ticket_Survival_Rate', 'Ticket_Survival_Rate_NA']\n",
    "               , inplace=True, axis=1)"
   ]
  },
  {
   "cell_type": "code",
   "execution_count": 601,
   "metadata": {},
   "outputs": [
    {
     "data": {
      "text/html": [
       "<div>\n",
       "<style scoped>\n",
       "    .dataframe tbody tr th:only-of-type {\n",
       "        vertical-align: middle;\n",
       "    }\n",
       "\n",
       "    .dataframe tbody tr th {\n",
       "        vertical-align: top;\n",
       "    }\n",
       "\n",
       "    .dataframe thead th {\n",
       "        text-align: right;\n",
       "    }\n",
       "</style>\n",
       "<table border=\"1\" class=\"dataframe\">\n",
       "  <thead>\n",
       "    <tr style=\"text-align: right;\">\n",
       "      <th></th>\n",
       "      <th>Survived</th>\n",
       "      <th>Pclass</th>\n",
       "      <th>Sex</th>\n",
       "      <th>Age</th>\n",
       "      <th>Fare</th>\n",
       "      <th>Cabin</th>\n",
       "      <th>Embarked</th>\n",
       "      <th>FamilySize</th>\n",
       "      <th>Title_unusual</th>\n",
       "      <th>Is_married</th>\n",
       "      <th>TicketFrequency</th>\n",
       "      <th>Survival_Rate</th>\n",
       "      <th>Survival_Rate_NA</th>\n",
       "    </tr>\n",
       "    <tr>\n",
       "      <th>PassengerId</th>\n",
       "      <th></th>\n",
       "      <th></th>\n",
       "      <th></th>\n",
       "      <th></th>\n",
       "      <th></th>\n",
       "      <th></th>\n",
       "      <th></th>\n",
       "      <th></th>\n",
       "      <th></th>\n",
       "      <th></th>\n",
       "      <th></th>\n",
       "      <th></th>\n",
       "      <th></th>\n",
       "    </tr>\n",
       "  </thead>\n",
       "  <tbody>\n",
       "    <tr>\n",
       "      <th>1</th>\n",
       "      <td>0.0</td>\n",
       "      <td>3</td>\n",
       "      <td>male</td>\n",
       "      <td>22.0</td>\n",
       "      <td>7.2500</td>\n",
       "      <td>M</td>\n",
       "      <td>S</td>\n",
       "      <td>2</td>\n",
       "      <td>0</td>\n",
       "      <td>0</td>\n",
       "      <td>1</td>\n",
       "      <td>0.383838</td>\n",
       "      <td>0.0</td>\n",
       "    </tr>\n",
       "    <tr>\n",
       "      <th>2</th>\n",
       "      <td>1.0</td>\n",
       "      <td>1</td>\n",
       "      <td>female</td>\n",
       "      <td>38.0</td>\n",
       "      <td>71.2833</td>\n",
       "      <td>ABC</td>\n",
       "      <td>C</td>\n",
       "      <td>2</td>\n",
       "      <td>0</td>\n",
       "      <td>0</td>\n",
       "      <td>2</td>\n",
       "      <td>1.000000</td>\n",
       "      <td>1.0</td>\n",
       "    </tr>\n",
       "    <tr>\n",
       "      <th>3</th>\n",
       "      <td>1.0</td>\n",
       "      <td>3</td>\n",
       "      <td>female</td>\n",
       "      <td>26.0</td>\n",
       "      <td>7.9250</td>\n",
       "      <td>M</td>\n",
       "      <td>S</td>\n",
       "      <td>1</td>\n",
       "      <td>0</td>\n",
       "      <td>0</td>\n",
       "      <td>1</td>\n",
       "      <td>0.383838</td>\n",
       "      <td>0.0</td>\n",
       "    </tr>\n",
       "    <tr>\n",
       "      <th>4</th>\n",
       "      <td>1.0</td>\n",
       "      <td>1</td>\n",
       "      <td>female</td>\n",
       "      <td>35.0</td>\n",
       "      <td>53.1000</td>\n",
       "      <td>ABC</td>\n",
       "      <td>S</td>\n",
       "      <td>2</td>\n",
       "      <td>0</td>\n",
       "      <td>0</td>\n",
       "      <td>2</td>\n",
       "      <td>0.383838</td>\n",
       "      <td>0.0</td>\n",
       "    </tr>\n",
       "    <tr>\n",
       "      <th>5</th>\n",
       "      <td>0.0</td>\n",
       "      <td>3</td>\n",
       "      <td>male</td>\n",
       "      <td>35.0</td>\n",
       "      <td>8.0500</td>\n",
       "      <td>M</td>\n",
       "      <td>S</td>\n",
       "      <td>1</td>\n",
       "      <td>0</td>\n",
       "      <td>0</td>\n",
       "      <td>1</td>\n",
       "      <td>0.383838</td>\n",
       "      <td>0.0</td>\n",
       "    </tr>\n",
       "  </tbody>\n",
       "</table>\n",
       "</div>"
      ],
      "text/plain": [
       "             Survived Pclass     Sex   Age     Fare Cabin Embarked  \\\n",
       "PassengerId                                                          \n",
       "1                 0.0      3    male  22.0   7.2500     M        S   \n",
       "2                 1.0      1  female  38.0  71.2833   ABC        C   \n",
       "3                 1.0      3  female  26.0   7.9250     M        S   \n",
       "4                 1.0      1  female  35.0  53.1000   ABC        S   \n",
       "5                 0.0      3    male  35.0   8.0500     M        S   \n",
       "\n",
       "             FamilySize  Title_unusual  Is_married  TicketFrequency  \\\n",
       "PassengerId                                                           \n",
       "1                     2              0           0                1   \n",
       "2                     2              0           0                2   \n",
       "3                     1              0           0                1   \n",
       "4                     2              0           0                2   \n",
       "5                     1              0           0                1   \n",
       "\n",
       "             Survival_Rate  Survival_Rate_NA  \n",
       "PassengerId                                   \n",
       "1                 0.383838               0.0  \n",
       "2                 1.000000               1.0  \n",
       "3                 0.383838               0.0  \n",
       "4                 0.383838               0.0  \n",
       "5                 0.383838               0.0  "
      ]
     },
     "execution_count": 601,
     "metadata": {},
     "output_type": "execute_result"
    }
   ],
   "source": [
    "train_data.head()"
   ]
  },
  {
   "cell_type": "code",
   "execution_count": 602,
   "metadata": {},
   "outputs": [],
   "source": [
    "train_data = label_encoding(train_data, ['Embarked', 'Sex', 'Pclass', 'Cabin', 'FamilySize'])\n",
    "train_data = onehotencode(train_data, ['Embarked', 'Sex', 'Pclass', 'Cabin', 'FamilySize'])"
   ]
  },
  {
   "cell_type": "code",
   "execution_count": 603,
   "metadata": {},
   "outputs": [
    {
     "data": {
      "text/html": [
       "<div>\n",
       "<style scoped>\n",
       "    .dataframe tbody tr th:only-of-type {\n",
       "        vertical-align: middle;\n",
       "    }\n",
       "\n",
       "    .dataframe tbody tr th {\n",
       "        vertical-align: top;\n",
       "    }\n",
       "\n",
       "    .dataframe thead th {\n",
       "        text-align: right;\n",
       "    }\n",
       "</style>\n",
       "<table border=\"1\" class=\"dataframe\">\n",
       "  <thead>\n",
       "    <tr style=\"text-align: right;\">\n",
       "      <th></th>\n",
       "      <th>Survived</th>\n",
       "      <th>Age</th>\n",
       "      <th>Fare</th>\n",
       "      <th>Title_unusual</th>\n",
       "      <th>Is_married</th>\n",
       "      <th>TicketFrequency</th>\n",
       "      <th>Survival_Rate</th>\n",
       "      <th>Survival_Rate_NA</th>\n",
       "      <th>Embarked_1</th>\n",
       "      <th>Embarked_2</th>\n",
       "      <th>...</th>\n",
       "      <th>Cabin_5</th>\n",
       "      <th>FamilySize_1</th>\n",
       "      <th>FamilySize_2</th>\n",
       "      <th>FamilySize_3</th>\n",
       "      <th>FamilySize_4</th>\n",
       "      <th>FamilySize_5</th>\n",
       "      <th>FamilySize_6</th>\n",
       "      <th>FamilySize_7</th>\n",
       "      <th>FamilySize_8</th>\n",
       "      <th>FamilySize_9</th>\n",
       "    </tr>\n",
       "    <tr>\n",
       "      <th>PassengerId</th>\n",
       "      <th></th>\n",
       "      <th></th>\n",
       "      <th></th>\n",
       "      <th></th>\n",
       "      <th></th>\n",
       "      <th></th>\n",
       "      <th></th>\n",
       "      <th></th>\n",
       "      <th></th>\n",
       "      <th></th>\n",
       "      <th></th>\n",
       "      <th></th>\n",
       "      <th></th>\n",
       "      <th></th>\n",
       "      <th></th>\n",
       "      <th></th>\n",
       "      <th></th>\n",
       "      <th></th>\n",
       "      <th></th>\n",
       "      <th></th>\n",
       "      <th></th>\n",
       "    </tr>\n",
       "  </thead>\n",
       "  <tbody>\n",
       "    <tr>\n",
       "      <th>1</th>\n",
       "      <td>0.0</td>\n",
       "      <td>22.0</td>\n",
       "      <td>7.2500</td>\n",
       "      <td>0</td>\n",
       "      <td>0</td>\n",
       "      <td>1</td>\n",
       "      <td>0.383838</td>\n",
       "      <td>0.0</td>\n",
       "      <td>0.0</td>\n",
       "      <td>0.0</td>\n",
       "      <td>...</td>\n",
       "      <td>0.0</td>\n",
       "      <td>0.0</td>\n",
       "      <td>1.0</td>\n",
       "      <td>0.0</td>\n",
       "      <td>0.0</td>\n",
       "      <td>0.0</td>\n",
       "      <td>0.0</td>\n",
       "      <td>0.0</td>\n",
       "      <td>0.0</td>\n",
       "      <td>0.0</td>\n",
       "    </tr>\n",
       "    <tr>\n",
       "      <th>2</th>\n",
       "      <td>1.0</td>\n",
       "      <td>38.0</td>\n",
       "      <td>71.2833</td>\n",
       "      <td>0</td>\n",
       "      <td>0</td>\n",
       "      <td>2</td>\n",
       "      <td>1.000000</td>\n",
       "      <td>1.0</td>\n",
       "      <td>1.0</td>\n",
       "      <td>0.0</td>\n",
       "      <td>...</td>\n",
       "      <td>0.0</td>\n",
       "      <td>0.0</td>\n",
       "      <td>1.0</td>\n",
       "      <td>0.0</td>\n",
       "      <td>0.0</td>\n",
       "      <td>0.0</td>\n",
       "      <td>0.0</td>\n",
       "      <td>0.0</td>\n",
       "      <td>0.0</td>\n",
       "      <td>0.0</td>\n",
       "    </tr>\n",
       "    <tr>\n",
       "      <th>3</th>\n",
       "      <td>1.0</td>\n",
       "      <td>26.0</td>\n",
       "      <td>7.9250</td>\n",
       "      <td>0</td>\n",
       "      <td>0</td>\n",
       "      <td>1</td>\n",
       "      <td>0.383838</td>\n",
       "      <td>0.0</td>\n",
       "      <td>0.0</td>\n",
       "      <td>0.0</td>\n",
       "      <td>...</td>\n",
       "      <td>0.0</td>\n",
       "      <td>1.0</td>\n",
       "      <td>0.0</td>\n",
       "      <td>0.0</td>\n",
       "      <td>0.0</td>\n",
       "      <td>0.0</td>\n",
       "      <td>0.0</td>\n",
       "      <td>0.0</td>\n",
       "      <td>0.0</td>\n",
       "      <td>0.0</td>\n",
       "    </tr>\n",
       "    <tr>\n",
       "      <th>4</th>\n",
       "      <td>1.0</td>\n",
       "      <td>35.0</td>\n",
       "      <td>53.1000</td>\n",
       "      <td>0</td>\n",
       "      <td>0</td>\n",
       "      <td>2</td>\n",
       "      <td>0.383838</td>\n",
       "      <td>0.0</td>\n",
       "      <td>0.0</td>\n",
       "      <td>0.0</td>\n",
       "      <td>...</td>\n",
       "      <td>0.0</td>\n",
       "      <td>0.0</td>\n",
       "      <td>1.0</td>\n",
       "      <td>0.0</td>\n",
       "      <td>0.0</td>\n",
       "      <td>0.0</td>\n",
       "      <td>0.0</td>\n",
       "      <td>0.0</td>\n",
       "      <td>0.0</td>\n",
       "      <td>0.0</td>\n",
       "    </tr>\n",
       "    <tr>\n",
       "      <th>5</th>\n",
       "      <td>0.0</td>\n",
       "      <td>35.0</td>\n",
       "      <td>8.0500</td>\n",
       "      <td>0</td>\n",
       "      <td>0</td>\n",
       "      <td>1</td>\n",
       "      <td>0.383838</td>\n",
       "      <td>0.0</td>\n",
       "      <td>0.0</td>\n",
       "      <td>0.0</td>\n",
       "      <td>...</td>\n",
       "      <td>0.0</td>\n",
       "      <td>1.0</td>\n",
       "      <td>0.0</td>\n",
       "      <td>0.0</td>\n",
       "      <td>0.0</td>\n",
       "      <td>0.0</td>\n",
       "      <td>0.0</td>\n",
       "      <td>0.0</td>\n",
       "      <td>0.0</td>\n",
       "      <td>0.0</td>\n",
       "    </tr>\n",
       "  </tbody>\n",
       "</table>\n",
       "<p>5 rows × 30 columns</p>\n",
       "</div>"
      ],
      "text/plain": [
       "             Survived   Age     Fare  Title_unusual  Is_married  \\\n",
       "PassengerId                                                       \n",
       "1                 0.0  22.0   7.2500              0           0   \n",
       "2                 1.0  38.0  71.2833              0           0   \n",
       "3                 1.0  26.0   7.9250              0           0   \n",
       "4                 1.0  35.0  53.1000              0           0   \n",
       "5                 0.0  35.0   8.0500              0           0   \n",
       "\n",
       "             TicketFrequency  Survival_Rate  Survival_Rate_NA  Embarked_1  \\\n",
       "PassengerId                                                                 \n",
       "1                          1       0.383838               0.0         0.0   \n",
       "2                          2       1.000000               1.0         1.0   \n",
       "3                          1       0.383838               0.0         0.0   \n",
       "4                          2       0.383838               0.0         0.0   \n",
       "5                          1       0.383838               0.0         0.0   \n",
       "\n",
       "             Embarked_2  ...  Cabin_5  FamilySize_1  FamilySize_2  \\\n",
       "PassengerId              ...                                        \n",
       "1                   0.0  ...      0.0           0.0           1.0   \n",
       "2                   0.0  ...      0.0           0.0           1.0   \n",
       "3                   0.0  ...      0.0           1.0           0.0   \n",
       "4                   0.0  ...      0.0           0.0           1.0   \n",
       "5                   0.0  ...      0.0           1.0           0.0   \n",
       "\n",
       "             FamilySize_3  FamilySize_4  FamilySize_5  FamilySize_6  \\\n",
       "PassengerId                                                           \n",
       "1                     0.0           0.0           0.0           0.0   \n",
       "2                     0.0           0.0           0.0           0.0   \n",
       "3                     0.0           0.0           0.0           0.0   \n",
       "4                     0.0           0.0           0.0           0.0   \n",
       "5                     0.0           0.0           0.0           0.0   \n",
       "\n",
       "             FamilySize_7  FamilySize_8  FamilySize_9  \n",
       "PassengerId                                            \n",
       "1                     0.0           0.0           0.0  \n",
       "2                     0.0           0.0           0.0  \n",
       "3                     0.0           0.0           0.0  \n",
       "4                     0.0           0.0           0.0  \n",
       "5                     0.0           0.0           0.0  \n",
       "\n",
       "[5 rows x 30 columns]"
      ]
     },
     "execution_count": 603,
     "metadata": {},
     "output_type": "execute_result"
    }
   ],
   "source": [
    "train_data.head()"
   ]
  },
  {
   "cell_type": "code",
   "execution_count": null,
   "metadata": {},
   "outputs": [],
   "source": []
  },
  {
   "cell_type": "code",
   "execution_count": null,
   "metadata": {},
   "outputs": [],
   "source": []
  },
  {
   "cell_type": "code",
   "execution_count": null,
   "metadata": {},
   "outputs": [],
   "source": []
  },
  {
   "cell_type": "code",
   "execution_count": null,
   "metadata": {},
   "outputs": [],
   "source": []
  },
  {
   "cell_type": "code",
   "execution_count": null,
   "metadata": {},
   "outputs": [],
   "source": []
  }
 ],
 "metadata": {
  "kernelspec": {
   "display_name": "Python 3",
   "language": "python",
   "name": "python3"
  },
  "language_info": {
   "codemirror_mode": {
    "name": "ipython",
    "version": 3
   },
   "file_extension": ".py",
   "mimetype": "text/x-python",
   "name": "python",
   "nbconvert_exporter": "python",
   "pygments_lexer": "ipython3",
   "version": "3.8.3"
  }
 },
 "nbformat": 4,
 "nbformat_minor": 4
}
